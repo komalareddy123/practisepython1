{
 "cells": [
  {
   "cell_type": "code",
   "execution_count": null,
   "id": "b8601624-4005-4c8d-b8b7-b6ac2f38917c",
   "metadata": {},
   "outputs": [],
   "source": [
    "#exercise1\n",
    "#1) Write a Python program to perform the following operations: \n",
    "#1. Add, subtract, multiply, and divide two numbers (input by the user). \n",
    "#2. Use the modulus operator to find the remainder of their division. \n",
    "#3. Use the exponentiation operator to raise the first number to the power of the second number. \n",
    "#4. Perform floor division on the two numbers."
   ]
  },
  {
   "cell_type": "code",
   "execution_count": 1,
   "id": "39ed62a0-e413-41e6-a0f6-fa996bcd0543",
   "metadata": {},
   "outputs": [
    {
     "name": "stdin",
     "output_type": "stream",
     "text": [
      "Enter the first number: 10\n",
      "Enter the second number: 3\n"
     ]
    },
    {
     "name": "stdout",
     "output_type": "stream",
     "text": [
      "13\n",
      "7\n",
      "30\n",
      "3.3333333333333335\n",
      "1\n",
      "1000\n",
      "3\n"
     ]
    }
   ],
   "source": [
    "a=int(input('Enter the first number:'))# Taking input from the user for the first number \n",
    "b=int(input('Enter the second number:'))# Taking input from the user for the second number \n",
    "add=a+b# add a and b\n",
    "sub=a-b# sub a nd b\n",
    "mul=a*b#mul a and b\n",
    "div=a/b#div a and b\n",
    "mod=a%b# mod a and b\n",
    "exp=a**b#exp a and b\n",
    "flodiv=a//b#flodiv a and b\n",
    "print(add)#print add\n",
    "print(sub)#print sub\n",
    "print(mul)#print mul\n",
    "print(div)#print div\n",
    "print(mod)#print mod\n",
    "print(exp)#print exp\n",
    "print(flodiv)#print flodiv"
   ]
  },
  {
   "cell_type": "code",
   "execution_count": null,
   "id": "a24c058e-5ac3-465a-904d-dbc144abcfb8",
   "metadata": {},
   "outputs": [],
   "source": [
    "#exercise 2\n",
    "#2)Write a Python program that asks for two numbers and checks: \n",
    "#1. If the first number is greater than the second. \n",
    "#2. If the first number is equal to the second. \n",
    "#3. If the first number is less than or equal to the second."
   ]
  },
  {
   "cell_type": "code",
   "execution_count": 3,
   "id": "40f23a08-eac9-4c94-8da8-7082b33ddd9b",
   "metadata": {},
   "outputs": [
    {
     "name": "stdin",
     "output_type": "stream",
     "text": [
      "Enter the first number: 5\n",
      "Enter the second number: 4\n"
     ]
    },
    {
     "name": "stdout",
     "output_type": "stream",
     "text": [
      "x is greater than y\n"
     ]
    }
   ],
   "source": [
    "x=int(input('Enter the first number:'))# Taking input from the user for the first number \n",
    "y=int(input('Enter the second number:'))# Taking input from the user for the second number \n",
    "if x>y:# Check if x is greater than y\n",
    "    print('x is greater than y')# If x is greater than y,then print the result\n",
    "elif x==y:#  x is not greater than y, check if x is equal to y\n",
    "    print('x is equal to y')  # If x is equal to y, then print the result\n",
    "else:#If above conditions are true, then x must be less than y\n",
    "    print('x is less than or equal to y')# If x is less than y, then print the result\n"
   ]
  },
  {
   "cell_type": "code",
   "execution_count": null,
   "id": "12f1885a-21f4-4b18-bf91-0d69ed3f9c67",
   "metadata": {},
   "outputs": [],
   "source": [
    "#exercise 3\n",
    "#3)Write a Python program that: \n",
    "#1. Takes three boolean values (True or False) as input. \n",
    "#2. Uses and, or, and not operators to return the result of combining them."
   ]
  },
  {
   "cell_type": "code",
   "execution_count": 6,
   "id": "0eaa8297-2c9a-4b3b-9d8c-7daf7907fccf",
   "metadata": {},
   "outputs": [
    {
     "name": "stdin",
     "output_type": "stream",
     "text": [
      "Enter the first value: 1\n",
      "Enter the second value: 0\n",
      "Enter the third value: 1\n"
     ]
    },
    {
     "name": "stdout",
     "output_type": "stream",
     "text": [
      "Result of and operation: False\n",
      "Result of or operation: True\n",
      "Result of not operation: False\n"
     ]
    }
   ],
   "source": [
    "a1=bool(int(input('Enter the first value:')))# Taking input from the user for the first value\n",
    "b1=bool(int(input('Enter the second value:')))# Taking input from the user for the second value\n",
    "c1=bool(int(input('Enter the third value:')))# Taking input from the user for the third value\n",
    "And = a1 and b1 and c1#taking logical operator 'And' between a1,b1,c1\n",
    "Or = a1 or b1 or c1#taking logical operator 'Or between a1,b1,c1\n",
    "Not = not a1#taking logical operator 'Not' between a1,b1,c1\n",
    "print('Result of and operation:',And)#prints the results of And operation\n",
    "print('Result of or operation:',Or)#prints the results of Not operation\n",
    "print('Result of not operation:',Not)#prints the results of Or operation"
   ]
  },
  {
   "cell_type": "code",
   "execution_count": null,
   "id": "4a72e0fa-1c9f-4996-a458-2997fd755d5f",
   "metadata": {},
   "outputs": [],
   "source": [
    "#exercise 4\n",
    "#4) String Manipulation \n",
    "#1. Take a string input from the user. \n",
    "#2. Display the following: \n",
    "#o The length of the string. \n",
    "#o The first and last character. \n",
    "#o The string in reverse order. \n",
    "#o The string in uppercase and lowercase."
   ]
  },
  {
   "cell_type": "code",
   "execution_count": 1,
   "id": "f6cf52ac-fbe7-423b-825a-ff21443c56af",
   "metadata": {},
   "outputs": [
    {
     "name": "stdin",
     "output_type": "stream",
     "text": [
      "Enter the string:  sudhakar\n"
     ]
    },
    {
     "name": "stdout",
     "output_type": "stream",
     "text": [
      "8\n",
      "s r\n",
      "rakahdus\n",
      "SUDHAKAR sudhakar\n"
     ]
    }
   ],
   "source": [
    "Str=input(\"Enter the string: \")#taking input from the user\n",
    "print(len(Str))#print the length of the string\n",
    "print(Str[0],Str[-1])#prints the first and last characters of the string\n",
    "print(Str[::-1])#reversing the string\n",
    "print(Str.upper(),Str.lower())#converts the string into lower and uppwr cases\n",
    "\n"
   ]
  },
  {
   "cell_type": "code",
   "execution_count": 16,
   "id": "607d60b3-1c66-4cc1-8e12-28bedd0a6e21",
   "metadata": {},
   "outputs": [
    {
     "name": "stdin",
     "output_type": "stream",
     "text": [
      "Enter your name:  komala\n",
      "Enter your age:  20\n"
     ]
    },
    {
     "name": "stdout",
     "output_type": "stream",
     "text": [
      "Hello komala, you are 20 years old.\n"
     ]
    }
   ],
   "source": [
    "#exercise 5\n",
    "#5)Write a program that asks for the user's name and age, and displays the message in this format: \n",
    "#Hello [Name], you are [Age] years old.\n",
    "name = input(\"Enter your name: \")#taking the input from the user\n",
    "age = input(\"Enter your age: \")#taking the input from the user\n",
    "print(f\"Hello {name}, you are {age} years old.\")# Using an f-string to format and insert variables into the string\n"
   ]
  },
  {
   "cell_type": "code",
   "execution_count": null,
   "id": "db99ed59-2e20-4a0e-8eba-81d50608b8bb",
   "metadata": {},
   "outputs": [],
   "source": [
    "#exercise 6\n",
    "#6)Substring Search \n",
    "#Write a Python program that: \n",
    "#1. Asks for a sentence input from the user. \n",
    "#2. Asks for a word to search in the sentence. \n",
    "#3. Outputs whether the word exists in the sentence and, if it does, at which position (index)."
   ]
  },
  {
   "cell_type": "code",
   "execution_count": 17,
   "id": "94a4a7ea-d43c-488b-864d-e8f5ca5bb890",
   "metadata": {},
   "outputs": [
    {
     "name": "stdin",
     "output_type": "stream",
     "text": [
      "Enter a sentence:  hloo,welcome to my world..\n",
      "Enter the word:  welcome\n"
     ]
    },
    {
     "name": "stdout",
     "output_type": "stream",
     "text": [
      "The word welcome exists in the sentence st index 5.\n"
     ]
    }
   ],
   "source": [
    "sentence=input(\"Enter a sentence: \")#taking the input from the user\n",
    "word=input(\"Enter the word: \")#taking the input from the user\n",
    "if word in sentence:#check if the word exist in the word\n",
    "    position = sentence.find(word)#position of word in the sentence\n",
    "    print(f\"The word {word} exists in the sentence st index {position}.\")#print the result if the word is found, along with its index position\n",
    "else:\n",
    "    print(f\"The  word {word} does not exist in the sentence.\")# If the word does not exist in the sentence, this message is printed"
   ]
  },
  {
   "cell_type": "code",
   "execution_count": null,
   "id": "3569d996-b00c-42c0-b5a9-89bffaaee338",
   "metadata": {},
   "outputs": [],
   "source": [
    "#7)Write a Python program that: \n",
    "#1. Creates a list of 5 numbers (input from the user). \n",
    "#2. Displays the sum of all the numbers in the list. \n",
    "#3. Finds the largest and smallest number in the list."
   ]
  },
  {
   "cell_type": "code",
   "execution_count": 3,
   "id": "baaa3793-0287-4e84-b609-d27db4384c94",
   "metadata": {},
   "outputs": [
    {
     "name": "stdout",
     "output_type": "stream",
     "text": [
      "List of numbers:\n",
      "Sum of all numbers: {total_sum}\n",
      "Largest number: {largest_number}\n",
      "Smallest number: {smallest_number}\n"
     ]
    }
   ],
   "source": [
    "n = [1,2,3,4,5]# A list of numbers\n",
    "total_sum = sum(n)#calculating the sum of all numbers in the list\n",
    "largest_number = max(n)#finding the largest number in the list\n",
    "smallest_number = min(n)#finding the smallest number in the list\n",
    "print(f\"List of numbers: {n}\")#print the list oof numbers\n",
    "print(f\"Sum of all numbers: {total_sum}\")#print sum of numbers\n",
    "print(f\"Largest number: {largest_number}\")#print the largest number\n",
    "print(f\"Smallest number: {smallest_number}\")#print the smallest number"
   ]
  },
  {
   "cell_type": "code",
   "execution_count": 4,
   "id": "a6b4cdf4-2e2f-4deb-b356-044ea75e85bc",
   "metadata": {},
   "outputs": [],
   "source": [
    "#8) List Manipulation \n",
    "#1. Create a list of 5 of your favorite fruits. \n",
    "#2. Perform the following: \n",
    "#o Add one more fruit to the list. \n",
    "#o Remove the second fruit from the list. \n",
    "#o Print the updated list. "
   ]
  },
  {
   "cell_type": "code",
   "execution_count": 5,
   "id": "3480c00e-6bc9-402e-8abe-be8ceb35823f",
   "metadata": {},
   "outputs": [
    {
     "name": "stdout",
     "output_type": "stream",
     "text": [
      "Updated list of fruits: ['Apple', 'Banana', 'Orange', 'Grapes', 'Pineapple']\n"
     ]
    }
   ],
   "source": [
    "fruits = [\"Apple\", \"Mango\", \"Banana\", \"Orange\", \"Grapes\"]#list of fruits\n",
    "fruits.append(\"Pineapple\")#adding the pineapple to the list\n",
    "fruits.pop(1)#removing the apple from the list\n",
    "print(\"Updated list of fruits:\", fruits)#print the updated list"
   ]
  },
  {
   "cell_type": "code",
   "execution_count": null,
   "id": "e21a15d6-ab79-4242-8af4-7935a093bc4c",
   "metadata": {},
   "outputs": [],
   "source": [
    "#9) Sorting a List \n",
    "#Write a Python program that: \n",
    "#1. Asks the user to input a list of 5 numbers. \n",
    "#2. Sorts the list in ascending order and displays it. \n",
    "#3. Sorts the list in descending order and displays it."
   ]
  },
  {
   "cell_type": "code",
   "execution_count": 10,
   "id": "a4845348-8a1e-4727-a2d3-98f9cf8e1827",
   "metadata": {},
   "outputs": [
    {
     "name": "stdin",
     "output_type": "stream",
     "text": [
      "Enter number 1:  10\n",
      "Enter number 2:  80\n",
      "Enter number 3:  87\n",
      "Enter number 4:  43\n",
      "Enter number 5:  12\n"
     ]
    },
    {
     "name": "stdout",
     "output_type": "stream",
     "text": [
      "List of numbers: [10, 80, 87, 43, 12]\n",
      "List in ascending order: [10, 12, 43, 80, 87]\n",
      "List in descending order: [87, 80, 43, 12, 10]\n"
     ]
    }
   ],
   "source": [
    "a =[ int(input(f\"Enter number {i+1}: \"))#taking input from the user\n",
    "           for i in range(5)]\n",
    "ascending_order = sorted(a)#sort the list in ascending order\n",
    "descending_order = sorted(a, reverse=True)#sort the list in decending order\n",
    "print(f\"List of numbers: {a}\")#print the list\n",
    "print(f\"List in ascending order: {ascending_order}\")#print the list in ascending order\n",
    "print(f\"List in descending order: {descending_order}\")#print the list in decending order\n"
   ]
  },
  {
   "cell_type": "code",
   "execution_count": null,
   "id": "2ccc8fb9-da0c-4288-92b4-9ce3d8770440",
   "metadata": {},
   "outputs": [],
   "source": [
    "#10)List Slicing \n",
    "#Given the list numbers = [1, 2, 3, 4, 5, 6, 7, 8, 9, 10], perform the following: \n",
    "#1. Print the first 5 elements. \n",
    "#2. Print the last 5 elements. \n",
    "#3. Print the elements from index 2 to index 7."
   ]
  },
  {
   "cell_type": "code",
   "execution_count": 20,
   "id": "78cefe8e-77b2-4e20-8090-db580c2e4cdb",
   "metadata": {},
   "outputs": [
    {
     "name": "stdout",
     "output_type": "stream",
     "text": [
      "First 5 elements: [1, 2, 3, 4, 5]\n",
      "Last 5 elements: [6, 7, 8, 9, 10]\n",
      "Elements from index 2 to 7: [3, 4, 5, 6, 7]\n"
     ]
    }
   ],
   "source": [
    "num = [1, 2, 3, 4, 5, 6, 7, 8, 9, 10]#list of numbers\n",
    "first_five = num[:5]# Slicing the first 5 elements from the list\n",
    "last_five = num[-5:]# Slicing the last 5 elements from the list\n",
    "middle_slice = num[2:7]# Slicing elements from index 2 to 7\n",
    "print(f\"First 5 elements: {first_five}\")#print first 5 numbers\n",
    "print(f\"Last 5 elements: {last_five}\")#print last 5 numbers\n",
    "print(f\"Elements from index 2 to 7: {middle_slice}\")#print the elements from index 2 to 7"
   ]
  },
  {
   "cell_type": "code",
   "execution_count": null,
   "id": "9c5f0c61-ef8c-4133-a413-447cac7a64bf",
   "metadata": {},
   "outputs": [],
   "source": [
    "#11) Nested List \n",
    "#Write a Python program that: \n",
    "#1. Takes input of 3 students' names and their respective scores in 3 subjects. \n",
    "#2. Stores them in a nested list. \n",
    "#3. Prints each student's name and their average score."
   ]
  },
  {
   "cell_type": "code",
   "execution_count": 17,
   "id": "90928301-bcf9-4fc0-ae1f-e1bdd0af506d",
   "metadata": {},
   "outputs": [
    {
     "name": "stdin",
     "output_type": "stream",
     "text": [
      "Enter the name of student 1:  sirisha\n",
      "Enter the score for subject 1 for sirisha:  99\n",
      "Enter the score for subject 2 for sirisha:  98\n",
      "Enter the score for subject 3 for sirisha:  97\n",
      "Enter the name of student 2:  komala\n",
      "Enter the score for subject 1 for komala:  88\n",
      "Enter the score for subject 2 for komala:  87\n",
      "Enter the score for subject 3 for komala:  89\n",
      "Enter the name of student 3:  chaithanya\n",
      "Enter the score for subject 1 for chaithanya:  77\n",
      "Enter the score for subject 2 for chaithanya:  78\n",
      "Enter the score for subject 3 for chaithanya:  79\n"
     ]
    },
    {
     "name": "stdout",
     "output_type": "stream",
     "text": [
      "\n",
      "Student Averages:\n",
      "sirisha's average score: 98.00\n",
      "komala's average score: 88.00\n",
      "chaithanya's average score: 78.00\n"
     ]
    }
   ],
   "source": [
    "students = []# ban empty list to store student data\n",
    "for i in range(3):# Looping to collect data for 3 students\n",
    "    name = input(f\"Enter the name of student {i+1}: \")#taking user to enter the student name\n",
    "    scores = []#an empty list to hold scores for the current student\n",
    "    for j in range(3):#loopind to collect scores for 3 subjects\n",
    "        score = float(input(f\"Enter the score for subject {j+1} for {name}: \"))#user to enter score for each subject\n",
    "        scores.append(score)# append the score to the scores list for the current student\n",
    "    students.append([name, scores]) # adding the student's name and scores to the students list\n",
    "print(\"\\nStudent Averages:\")# Printing the average scores for each student\n",
    "for student in students:\n",
    "    name = student[0] # Extracting the student's name\n",
    "    scores = student[1]# Extracting the student's scores\n",
    "    average_score = sum(scores) / len(scores)#calculating the average score\n",
    "    print(f\"{name}'s average score: {average_score:.2f}\")#print the average score of the each students\n"
   ]
  },
  {
   "cell_type": "code",
   "execution_count": null,
   "id": "515e99fe-7889-454f-a4d3-cc23e82d8de3",
   "metadata": {},
   "outputs": [],
   "source": []
  },
  {
   "cell_type": "code",
   "execution_count": null,
   "id": "3052c6a1-fa1c-4367-ac7b-f0448dcd14cf",
   "metadata": {},
   "outputs": [],
   "source": []
  }
 ],
 "metadata": {
  "kernelspec": {
   "display_name": "Python 3 (ipykernel)",
   "language": "python",
   "name": "python3"
  },
  "language_info": {
   "codemirror_mode": {
    "name": "ipython",
    "version": 3
   },
   "file_extension": ".py",
   "mimetype": "text/x-python",
   "name": "python",
   "nbconvert_exporter": "python",
   "pygments_lexer": "ipython3",
   "version": "3.12.4"
  }
 },
 "nbformat": 4,
 "nbformat_minor": 5
}
