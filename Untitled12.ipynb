{
 "cells": [
  {
   "cell_type": "code",
   "execution_count": null,
   "id": "63abee45-d61d-493d-b137-d03c97d8cb54",
   "metadata": {},
   "outputs": [],
   "source": [
    "#1)Write a program to check a character is in vowel or not.  \n",
    "#hint:declare variable as  vow = “aeiouAEIOU”"
   ]
  },
  {
   "cell_type": "code",
   "execution_count": 4,
   "id": "798a237c-671f-4800-bd74-9863d3811749",
   "metadata": {},
   "outputs": [
    {
     "name": "stdin",
     "output_type": "stream",
     "text": [
      "enter a character:  e\n"
     ]
    },
    {
     "name": "stdout",
     "output_type": "stream",
     "text": [
      "a is a vowel\n"
     ]
    }
   ],
   "source": [
    "vow = \"aeiouAEIOU\"\n",
    "a = input(\"enter a character: \")\n",
    "if a in vow:\n",
    "    print('a is a vowel')\n",
    "else:\n",
    "    print('a is not vowel')"
   ]
  },
  {
   "cell_type": "code",
   "execution_count": 5,
   "id": "eb1a40c1-dbb4-4dac-94a8-dcfd533d375e",
   "metadata": {},
   "outputs": [],
   "source": [
    "#2)"
   ]
  },
  {
   "cell_type": "code",
   "execution_count": 6,
   "id": "7688cc6c-327f-439c-a981-255a16ff6abe",
   "metadata": {},
   "outputs": [
    {
     "name": "stdin",
     "output_type": "stream",
     "text": [
      "enter a positive integer: 4\n"
     ]
    },
    {
     "name": "stdout",
     "output_type": "stream",
     "text": [
      "WEIRD\n"
     ]
    }
   ],
   "source": [
    "n=int(input('enter a positive integer:'))\n",
    "if n%2!=0:\n",
    "    print('WEIRD')\n",
    "elif n%2==0 and n<=2 and n<=5:\n",
    "    print('NOT WEIRD')\n",
    "elif n%2==0 and n>20:\n",
    "    print('NOT WEIRD')\n",
    "else:\n",
    "    print('WEIRD')\n",
    "      "
   ]
  },
  {
   "cell_type": "code",
   "execution_count": 8,
   "id": "f774981b-9037-4b0a-baac-6840ca5c67c1",
   "metadata": {},
   "outputs": [],
   "source": [
    "#3)"
   ]
  },
  {
   "cell_type": "code",
   "execution_count": null,
   "id": "87c90501-5fb5-4771-9d5e-3016bd27f79c",
   "metadata": {},
   "outputs": [],
   "source": []
  },
  {
   "cell_type": "code",
   "execution_count": 13,
   "id": "354e011b-4210-47e6-8b56-54df2fd8b497",
   "metadata": {},
   "outputs": [
    {
     "name": "stdin",
     "output_type": "stream",
     "text": [
      "Enter the number of days the book is used:  8\n"
     ]
    },
    {
     "name": "stdout",
     "output_type": "stream",
     "text": [
      "The total fee for 8 days is: Rs. 19\n"
     ]
    }
   ],
   "source": [
    "def calculate_fee(days):\n",
    "    if days <= 5:\n",
    "        fee = days * 2\n",
    "    elif 6 <= days <= 10:\n",
    "        fee = (5 * 2) + (days - 5) * 3\n",
    "    elif 11 <= days <= 15:\n",
    "        fee = (5 * 2) + (5 * 3) + (days - 10) * 4\n",
    "    else:\n",
    "        fee = (5 * 2) + (5 * 3) + (5 * 4) + (days - 15) * 5\n",
    "    return fee\n",
    "days = int(input(\"Enter the number of days the book is used: \"))\n",
    "fee = calculate_fee(days)\n",
    "print(f\"The total fee for {days} days is: Rs. {fee}\")\n"
   ]
  },
  {
   "cell_type": "code",
   "execution_count": null,
   "id": "4b534801-6901-465f-ad3f-cabce9e57072",
   "metadata": {},
   "outputs": [],
   "source": []
  },
  {
   "cell_type": "code",
   "execution_count": null,
   "id": "73380ea8-3efd-4cd4-aa8f-d607fa582562",
   "metadata": {},
   "outputs": [],
   "source": []
  }
 ],
 "metadata": {
  "kernelspec": {
   "display_name": "Python 3 (ipykernel)",
   "language": "python",
   "name": "python3"
  },
  "language_info": {
   "codemirror_mode": {
    "name": "ipython",
    "version": 3
   },
   "file_extension": ".py",
   "mimetype": "text/x-python",
   "name": "python",
   "nbconvert_exporter": "python",
   "pygments_lexer": "ipython3",
   "version": "3.12.4"
  }
 },
 "nbformat": 4,
 "nbformat_minor": 5
}
